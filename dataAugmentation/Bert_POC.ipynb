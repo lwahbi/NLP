{
  "nbformat": 4,
  "nbformat_minor": 0,
  "metadata": {
    "colab": {
      "name": "Bert_POC.ipynb",
      "provenance": [],
      "collapsed_sections": []
    },
    "kernelspec": {
      "name": "python3",
      "display_name": "Python 3"
    },
    "accelerator": "TPU"
  },
  "cells": [
    {
      "cell_type": "markdown",
      "metadata": {
        "id": "sDwoIdQTED3N",
        "colab_type": "text"
      },
      "source": [
        "  # **BERT**\n",
        " BERT, acronyme de Bidirectional Encoder Representations from Transformers, est un modèle de langage développé par Google en 2018. Cette méthode a permis d'améliorer significativement les algorithmes de traitement automatique de la langue."
      ]
    },
    {
      "cell_type": "markdown",
      "metadata": {
        "id": "IIWRtU5mF9Jh",
        "colab_type": "text"
      },
      "source": [
        "# Installation des prérequis :\n"
      ]
    },
    {
      "cell_type": "code",
      "metadata": {
        "id": "0RKY_R2FlrbK",
        "colab_type": "code",
        "colab": {}
      },
      "source": [
        "!pip install torch>=1.2.0 transformers>=2.0.0\n",
        "!pip install nlpaug"
      ],
      "execution_count": 0,
      "outputs": []
    },
    {
      "cell_type": "markdown",
      "metadata": {
        "id": "clp74vDIKZGA",
        "colab_type": "text"
      },
      "source": [
        "#Modèles pré-entraînés :\n",
        "\n",
        "https://github.com/google-research/bert/blob/master/multilingual.md\n",
        "\n",
        "\n"
      ]
    },
    {
      "cell_type": "markdown",
      "metadata": {
        "id": "ZEtu6ZwjQ4jk",
        "colab_type": "text"
      },
      "source": [
        "# Test:\n"
      ]
    },
    {
      "cell_type": "code",
      "metadata": {
        "id": "UdKx3BMwgfab",
        "colab_type": "code",
        "colab": {}
      },
      "source": [
        "import os\n",
        "import nlpaug.augmenter.word as naw"
      ],
      "execution_count": 0,
      "outputs": []
    },
    {
      "cell_type": "code",
      "metadata": {
        "id": "MpryuPeWgsug",
        "colab_type": "code",
        "colab": {}
      },
      "source": [
        "text = 'Comment modifier les accès de mon badge ?'"
      ],
      "execution_count": 0,
      "outputs": []
    },
    {
      "cell_type": "code",
      "metadata": {
        "id": "MFJmRJqrgDKF",
        "colab_type": "code",
        "outputId": "6522e987-aa68-49c1-e7d7-bee66969e7b1",
        "colab": {
          "base_uri": "https://localhost:8080/",
          "height": 1000
        }
      },
      "source": [
        "path=\"/content\"\n",
        "aug = naw.ContextualWordEmbsAug(model_path=\"bert-base-multilingual-uncased\", aug_p=0.1)\n",
        "augmented_text = aug.augment(text)\n",
        "print(\"Original:\")\n",
        "print(text)\n",
        "print(\"Augmented Text:\")\n",
        "for i in range(100):\n",
        "  augmented_text = aug.augment(text)\n",
        "  print(augmented_text)"
      ],
      "execution_count": 0,
      "outputs": [
        {
          "output_type": "stream",
          "text": [
            "Original:\n",
            "Comment modifier les accès de mon badge ?\n",
            "Augmented Text:\n",
            "comment modifie les les acces de mon badge ?\n",
            "comment modifie de les acces de mon badge ?\n",
            "comment atteindre les acces de mon badge ?\n",
            "comment modifier les acces de la badge ?\n",
            "comment modifier les acces de chaque badge ?\n",
            "comment modifier les acces de chaque badge ?\n",
            "comment modifier les restes de mon badge ?\n",
            "comment modifier chaque acces de mon badge ?\n",
            "comment modifier le acces de mon badge ?\n",
            "comment modifier les acces de mon restaurant ?\n",
            "comment modifier les acces a mon badge ?\n",
            "comment modifier les lignes de mon badge ?\n",
            "comment modifie on les acces de mon badge ?\n",
            "comment modifier les acces a mon badge ?\n",
            "comment modifier les acces a mon badge ?\n",
            "comment modifier les acces de la badge ?\n",
            "comment modifier les lettres de mon badge ?\n",
            "comment modifier cet acces de mon badge ?\n",
            "comment changer les acces de mon badge ?\n",
            "comment modifier les acces de la badge ?\n",
            "comment modifier les acces de la badge ?\n",
            "comment modifie - les acces de mon badge ?\n",
            "comment modifier les acces de ce badge ?\n",
            "comment modifier les acces de mon vehicule ?\n",
            "quoi modifier les acces de mon badge ?\n",
            "pourquoi modifier les acces de mon badge ?\n",
            "comment atteindre les acces de mon badge ?\n",
            "comment ameliorer les acces de mon badge ?\n",
            "vraiment modifier les acces de mon badge ?\n",
            "comment modifie : les acces de mon badge ?\n",
            "comment changer les acces de mon badge ?\n",
            "- modifier les acces de mon badge ?\n",
            "comment modifier les acces de la badge ?\n",
            "comment modifier les acces de la badge ?\n",
            "comment modifie ou les acces de mon badge ?\n",
            "comment comprendre les acces de mon badge ?\n",
            "comment modifier les acces pour mon badge ?\n",
            "comment modifier les acces de la badge ?\n",
            "comment modifier les acces a mon badge ?\n",
            "comment modifier les lignes de mon badge ?\n",
            "comment modifie tout les acces de mon badge ?\n",
            "comment modifier mon acces de mon badge ?\n",
            "comment modifier les acces a mon badge ?\n",
            "comment modifier les acces de la badge ?\n",
            "comment modifier cet acces de mon badge ?\n",
            "comment modifier les acces de la badge ?\n",
            "quoi modifier les acces de mon badge ?\n",
            "comment modifier cet acces de mon badge ?\n",
            "comment modifie dans les acces de mon badge ?\n",
            "comment modifier les acces de mon pays ?\n",
            "comment modifier les acces de mon reseau ?\n",
            "comment modifier les acces a mon badge ?\n",
            "comment modifie que les acces de mon badge ?\n",
            "comment gagner les acces de mon badge ?\n",
            "comment modifie sur les acces de mon badge ?\n",
            "comment faire les acces de mon badge ?\n",
            "comment modifier le acces de mon badge ?\n",
            "comment modifier mon acces de mon badge ?\n",
            "comment modifier les acces de leur badge ?\n",
            "quoi modifier les acces de mon badge ?\n",
            "comment modifier les acces de chaque badge ?\n",
            "comment modifier les origines de mon badge ?\n",
            "comment modifier les secrets de mon badge ?\n",
            "comment modifier - acces de mon badge ?\n",
            "comment modifier les acces de mon bureau ?\n",
            "comment modifier les acces sur mon badge ?\n",
            "comment modifier les acces de la badge ?\n",
            "comment modifier les acces de la badge ?\n",
            "comment modifie dans les acces de mon badge ?\n",
            "comment voir les acces de mon badge ?\n",
            "comment changer les acces de mon badge ?\n",
            "comment modifier les caracteristiques de mon badge ?\n",
            "comment augmenter les acces de mon badge ?\n",
            "comment modifier leur acces de mon badge ?\n",
            "comment modifier les limites de mon badge ?\n",
            "comment modifier cet acces de mon badge ?\n",
            "ne modifier les acces de mon badge ?\n",
            "comment modifie pas les acces de mon badge ?\n",
            "comment modifie avec les acces de mon badge ?\n",
            "comment modifier les acces de la badge ?\n",
            "comment modifier les acces a mon badge ?\n",
            "comment modifier chaque acces de mon badge ?\n",
            "comment modifier les acces de mon telephone ?\n",
            "comment modifier les objectifs de mon badge ?\n",
            "comment modifie les les acces de mon badge ?\n",
            "comment modifie . les acces de mon badge ?\n",
            "comment modifier les traits de mon badge ?\n",
            "comment connaitre les acces de mon badge ?\n",
            "comment modifier les acces de chaque badge ?\n",
            "comment modifie tous les acces de mon badge ?\n",
            "comment ameliorer les acces de mon badge ?\n",
            "comment modifie dans les acces de mon badge ?\n",
            "faire modifier les acces de mon badge ?\n",
            "comment modifier les acces avec mon badge ?\n",
            "comment modifier les acces avec mon badge ?\n",
            "comment modifier les fonctions de mon badge ?\n",
            "comment modifier les acces de mon tour ?\n",
            "comment modifier les acces de mon internet ?\n",
            "comment modifier son acces de mon badge ?\n",
            "comment modifier vous acces de mon badge ?\n"
          ],
          "name": "stdout"
        }
      ]
    }
  ]
}