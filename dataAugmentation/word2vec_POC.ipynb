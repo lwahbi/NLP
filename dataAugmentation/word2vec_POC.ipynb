{
  "nbformat": 4,
  "nbformat_minor": 0,
  "metadata": {
    "colab": {
      "name": "word2vec_POC.ipynb",
      "provenance": [],
      "collapsed_sections": []
    },
    "kernelspec": {
      "name": "python3",
      "display_name": "Python 3"
    },
    "accelerator": "TPU"
  },
  "cells": [
    {
      "cell_type": "markdown",
      "metadata": {
        "id": "PmgcsxcfB59G",
        "colab_type": "text"
      },
      "source": [
        "# **Word2vec**\n",
        " Word2vec est un groupe de modèles utilisé pour le plongement lexical (word embedding).\n",
        "Ces modèles ont été développés par une équipe de recherche chez Google sous la direction de Tomas Mikolov \n",
        "\n"
      ]
    },
    {
      "cell_type": "code",
      "metadata": {
        "id": "NRaos7fIGNnr",
        "colab_type": "code",
        "colab": {}
      },
      "source": [
        "!pip install torch>=1.2.0 transformers>=2.0.0\n",
        "!pip install nlpaug\n",
        "!pip install utils"
      ],
      "execution_count": 0,
      "outputs": []
    },
    {
      "cell_type": "markdown",
      "metadata": {
        "id": "clp74vDIKZGA",
        "colab_type": "text"
      },
      "source": [
        "#Modèles pré-entraînés :\n",
        "Modèles word2vec pré-entrainés pour le français. Leur format est le format binaire initial proposé avec word2vec v0.1c. \n",
        "https://fauconnier.github.io/\n"
      ]
    },
    {
      "cell_type": "code",
      "metadata": {
        "id": "p77OpKFMIh5Z",
        "colab_type": "code",
        "colab": {}
      },
      "source": [
        "!wget http://embeddings.net/frWac_postag_no_phrase_700_skip_cut50.bin\n",
        "!wget http://embeddings.net/frWiki_no_phrase_no_postag_700_cbow_cut100.bin"
      ],
      "execution_count": 0,
      "outputs": []
    },
    {
      "cell_type": "markdown",
      "metadata": {
        "id": "Ai_OQNeLQw1e",
        "colab_type": "text"
      },
      "source": [
        "# Test:"
      ]
    },
    {
      "cell_type": "code",
      "metadata": {
        "id": "PNKZbKNIyiQI",
        "colab_type": "code",
        "colab": {}
      },
      "source": [
        "import os\n",
        "import nlpaug.augmenter.word as naw"
      ],
      "execution_count": 0,
      "outputs": []
    },
    {
      "cell_type": "code",
      "metadata": {
        "id": "frqDvFWR-wNv",
        "colab_type": "code",
        "colab": {}
      },
      "source": [
        "text = 'Comment modifier les accès de mon badge ?'"
      ],
      "execution_count": 0,
      "outputs": []
    },
    {
      "cell_type": "code",
      "metadata": {
        "id": "9yK2pTXS92Ea",
        "colab_type": "code",
        "outputId": "087f8e7d-8a12-4c22-8512-49532d1fe4da",
        "colab": {
          "base_uri": "https://localhost:8080/",
          "height": 119
        }
      },
      "source": [
        "#VERSION CBOW\n",
        "path=\"/content\"\n",
        "aug = naw.WordEmbsAug(model_type='word2vec', model_path=path+'/frWiki_no_phrase_no_postag_700_cbow_cut100.bin',action=\"insert\")\n",
        "augmented_text = aug.augment(text)\n",
        "print(\"Original:\")\n",
        "print(text)\n",
        "print(\"Augmented Text:\")\n",
        "print(augmented_text)\n"
      ],
      "execution_count": 0,
      "outputs": [
        {
          "output_type": "stream",
          "text": [
            "Original:\n",
            "Comment modifier les accès de mon badge ?\n",
            "Augmented Text:\n",
            "Comment \n",
            "parisien modifier \n",
            "viry les accès de mon badge ?\n"
          ],
          "name": "stdout"
        }
      ]
    },
    {
      "cell_type": "code",
      "metadata": {
        "id": "CZ1Wxy9-96lL",
        "colab_type": "code",
        "outputId": "87e02ba7-0a81-4c20-e863-25d2d8dcd34f",
        "colab": {
          "base_uri": "https://localhost:8080/",
          "height": 119
        }
      },
      "source": [
        "#VERSION Skip-Gram Version\n",
        "aug = naw.WordEmbsAug(model_type='word2vec', model_path=path+'/frWac_postag_no_phrase_700_skip_cut50.bin',action=\"insert\")\n",
        "augmented_text = aug.augment(text)\n",
        "print(\"Original:\")\n",
        "print(text)\n",
        "print(\"Augmented Text:\")\n",
        "print(augmented_text)"
      ],
      "execution_count": 0,
      "outputs": [
        {
          "output_type": "stream",
          "text": [
            "Original:\n",
            "Comment modifier les accès de mon badge ?\n",
            "Augmented Text:\n",
            "Comment modifier les \n",
            "globe accès de mon \n",
            "godelieve badge ?\n"
          ],
          "name": "stdout"
        }
      ]
    }
  ]
}