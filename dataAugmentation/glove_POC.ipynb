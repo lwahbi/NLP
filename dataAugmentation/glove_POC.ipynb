{
  "nbformat": 4,
  "nbformat_minor": 0,
  "metadata": {
    "colab": {
      "name": "glove_POC.ipynb",
      "provenance": [],
      "collapsed_sections": []
    },
    "kernelspec": {
      "name": "python3",
      "display_name": "Python 3"
    },
    "accelerator": "TPU"
  },
  "cells": [
    {
      "cell_type": "markdown",
      "metadata": {
        "id": "VbWI71NKFFRa",
        "colab_type": "text"
      },
      "source": [
        "#**Glove**\n",
        "GloVe, inventé par Global Vectors, est un modèle de représentation de mots distribués. Le modèle est un algorithme d'apprentissage non supervisé pour obtenir des représentations vectorielles des mots.\n",
        "\n",
        "Il a été développé comme étant un projet open source à Stanford."
      ]
    },
    {
      "cell_type": "markdown",
      "metadata": {
        "id": "74ksiyvhFp4a",
        "colab_type": "text"
      },
      "source": [
        "# Installation des prérequis :\n"
      ]
    },
    {
      "cell_type": "code",
      "metadata": {
        "id": "V8mv5AdQUeF4",
        "colab_type": "code",
        "colab": {}
      },
      "source": [
        "!pip install torch>=1.2.0 transformers>=2.0.0\n",
        "!pip install nlpaug"
      ],
      "execution_count": 0,
      "outputs": []
    },
    {
      "cell_type": "markdown",
      "metadata": {
        "id": "clp74vDIKZGA",
        "colab_type": "text"
      },
      "source": [
        "#Modèles pré-entraînés :\n",
        "\n",
        "Vecteurs de mots obtenus à partir des corpus respectifs. Si vous voulez des vecteurs de mots entrainés sur des ensembles de données Web massifs, vous n'avez besoin que de télécharger l'un de ces fichiers texte disponibles sur \n",
        "\n",
        "https://github.com/stanfordnlp/GloVe\n",
        "\n",
        "et \n",
        "\n",
        "https://nlp.stanford.edu/projects/glove/\n",
        "\n",
        "\n",
        "\n"
      ]
    },
    {
      "cell_type": "code",
      "metadata": {
        "id": "tX5D0ojuaSdE",
        "colab_type": "code",
        "colab": {}
      },
      "source": [
        "!wget http://nlp.stanford.edu/data/wordvecs/glove.6B.zip"
      ],
      "execution_count": 0,
      "outputs": []
    },
    {
      "cell_type": "code",
      "metadata": {
        "id": "T-WmFppHekX0",
        "colab_type": "code",
        "colab": {}
      },
      "source": [
        "!unzip glove.6B.zip"
      ],
      "execution_count": 0,
      "outputs": []
    },
    {
      "cell_type": "markdown",
      "metadata": {
        "id": "dZmKBeHoQpfU",
        "colab_type": "text"
      },
      "source": [
        "# Test:"
      ]
    },
    {
      "cell_type": "code",
      "metadata": {
        "id": "Vf_mxtYUfcRT",
        "colab_type": "code",
        "colab": {}
      },
      "source": [
        "import os\n",
        "import nlpaug.augmenter.word as naw"
      ],
      "execution_count": 0,
      "outputs": []
    },
    {
      "cell_type": "code",
      "metadata": {
        "id": "9n_OG4VgUkEc",
        "colab_type": "code",
        "colab": {}
      },
      "source": [
        "text = 'Comment modifier les accès de mon badge ?'"
      ],
      "execution_count": 0,
      "outputs": []
    },
    {
      "cell_type": "code",
      "metadata": {
        "id": "coMRFIkmUNWK",
        "colab_type": "code",
        "outputId": "53d43680-11bf-4bfa-efb1-223aa1bc7ad8",
        "colab": {
          "base_uri": "https://localhost:8080/",
          "height": 153
        }
      },
      "source": [
        "path=\"/content\"\n",
        "aug_w2v = naw.WordEmbsAug(model_type='glove',model_path=path+'/glove.6B.300d.txt',action=\"insert\")\n",
        "print(\"Original:\")\n",
        "print(text)\n",
        "aug_w2v.aug_p=0.1\n",
        "print(\"Augmented Text:\")\n",
        "for ii in range(5):\n",
        "    augmented_text = aug_w2v.augment(text)\n",
        "    print(augmented_text)"
      ],
      "execution_count": 0,
      "outputs": [
        {
          "output_type": "stream",
          "text": [
            "Original:\n",
            "Comment modifier les accès de mon badge ?\n",
            "Augmented Text:\n",
            "Comment modifier les morizet accès de mon badge ?\n",
            "abdoulaye Comment modifier les accès de mon badge ?\n",
            "Comment modifier les accès de dorid mon badge ?\n",
            "Comment modifier les swider accès de mon badge ?\n",
            "Comment modifier les accès de schappell mon badge ?\n"
          ],
          "name": "stdout"
        }
      ]
    }
  ]
}