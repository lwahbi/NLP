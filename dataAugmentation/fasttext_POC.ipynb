{
  "nbformat": 4,
  "nbformat_minor": 0,
  "metadata": {
    "colab": {
      "name": "fasttext_POC.ipynb",
      "provenance": [],
      "collapsed_sections": [],
      "machine_shape": "hm"
    },
    "kernelspec": {
      "name": "python3",
      "display_name": "Python 3"
    },
    "accelerator": "TPU"
  },
  "cells": [
    {
      "cell_type": "markdown",
      "metadata": {
        "id": "zWhJwoo1l5ui",
        "colab_type": "text"
      },
      "source": [
        "# **Fasttext**\n",
        "\n",
        "fastText est une bibliothèque d'apprentissage des incorporations de mots et de la classification de texte créée par le laboratoire de recherche sur l'IA de Facebook.\n",
        "\n",
        "  - Open Source\n",
        "  - Gratuite\n",
        "  - légère\n",
        "\n"
      ]
    },
    {
      "cell_type": "markdown",
      "metadata": {
        "id": "iOPQjgFMHI2S",
        "colab_type": "text"
      },
      "source": [
        "# Installation des prérequis :\n"
      ]
    },
    {
      "cell_type": "code",
      "metadata": {
        "id": "TZKPhLOXHimP",
        "colab_type": "code",
        "colab": {}
      },
      "source": [
        "!pip install nlpaug"
      ],
      "execution_count": 0,
      "outputs": []
    },
    {
      "cell_type": "code",
      "metadata": {
        "id": "Dtm30yRAlbc5",
        "colab_type": "code",
        "colab": {}
      },
      "source": [
        "!python -m spacy download fr\n",
        "import spacy\n",
        "nlp = spacy.load('fr')"
      ],
      "execution_count": 0,
      "outputs": []
    },
    {
      "cell_type": "markdown",
      "metadata": {
        "id": "clp74vDIKZGA",
        "colab_type": "text"
      },
      "source": [
        "#Modèles pré-entraînés :\n",
        "Vecteurs de mots pré-entraînés sur Wikipedia en utilisant fastText. Ces vecteurs de dimension 300 ont été obtenus en utilisant le modèle skip-gram décrit par Bojanowski et al. (2016) avec des paramètres par défaut.\n",
        "\n",
        "https://fasttext.cc/docs/en/pretrained-vectors.html\n",
        "\n"
      ]
    },
    {
      "cell_type": "code",
      "metadata": {
        "id": "zGuk27sELpUZ",
        "colab_type": "code",
        "outputId": "d7187479-799c-4572-8cb5-9fdc271e8390",
        "colab": {
          "base_uri": "https://localhost:8080/",
          "height": 34
        }
      },
      "source": [
        "import os\n",
        "import urllib.request\n",
        "urllib.request.urlretrieve('https://dl.fbaipublicfiles.com/fasttext/vectors-wiki/wiki.fr.vec', 'wiki.fr.vec')\n",
        "os.listdir()"
      ],
      "execution_count": 0,
      "outputs": [
        {
          "output_type": "execute_result",
          "data": {
            "text/plain": [
              "['.config', 'wiki.fr.vec', 'sample_data']"
            ]
          },
          "metadata": {
            "tags": []
          },
          "execution_count": 8
        }
      ]
    },
    {
      "cell_type": "markdown",
      "metadata": {
        "id": "axrXytoqQaE1",
        "colab_type": "text"
      },
      "source": [
        "# Test:"
      ]
    },
    {
      "cell_type": "code",
      "metadata": {
        "id": "cLTtihtHTexW",
        "colab_type": "code",
        "colab": {}
      },
      "source": [
        "import nlpaug.augmenter.word as naw"
      ],
      "execution_count": 0,
      "outputs": []
    },
    {
      "cell_type": "code",
      "metadata": {
        "id": "LMiw-379mLR3",
        "colab_type": "code",
        "outputId": "e13613c3-d7c4-4a2f-f233-39d48f8d9edd",
        "colab": {
          "base_uri": "https://localhost:8080/",
          "height": 34
        }
      },
      "source": [
        "test = 'Comment modifier les accès de mon badge ?'\n",
        "def tokenizerfr(sentence):\n",
        "    # Tokeniser la phrase\n",
        "    doc = nlp(sentence)\n",
        "    # Retourner le texte de chaque token\n",
        "    return [X.text for X in doc]\n",
        "tokenizerfr(test)"
      ],
      "execution_count": 0,
      "outputs": [
        {
          "output_type": "execute_result",
          "data": {
            "text/plain": [
              "['Comment', 'modifier', 'les', 'accès', 'de', 'mon', 'badge', '?']"
            ]
          },
          "metadata": {
            "tags": []
          },
          "execution_count": 39
        }
      ]
    },
    {
      "cell_type": "code",
      "metadata": {
        "id": "BCZi7XmfltC-",
        "colab_type": "code",
        "outputId": "fcae3b37-16d7-4429-c33a-ab32222d0bbc",
        "colab": {
          "base_uri": "https://localhost:8080/",
          "height": 34
        }
      },
      "source": [
        "type(tokenizerfr(test))"
      ],
      "execution_count": 0,
      "outputs": [
        {
          "output_type": "execute_result",
          "data": {
            "text/plain": [
              "list"
            ]
          },
          "metadata": {
            "tags": []
          },
          "execution_count": 58
        }
      ]
    },
    {
      "cell_type": "code",
      "metadata": {
        "id": "c9W9GhunUufg",
        "colab_type": "code",
        "outputId": "161b1274-e09f-483f-b17c-7511f795bd2d",
        "colab": {
          "base_uri": "https://localhost:8080/",
          "height": 68
        }
      },
      "source": [
        "!ls -l --block-size=M"
      ],
      "execution_count": 0,
      "outputs": [
        {
          "output_type": "stream",
          "text": [
            "total 2887M\n",
            "drwxr-xr-x 1 root root    1M Mar  3 18:11 sample_data\n",
            "-rw-r--r-- 1 root root 2887M Mar 19 12:07 wiki.fr.vec\n"
          ],
          "name": "stdout"
        }
      ]
    },
    {
      "cell_type": "code",
      "metadata": {
        "id": "ws1DeclcHe0y",
        "colab_type": "code",
        "outputId": "8dae1bfa-3091-4e4c-e2ab-b76fb3534287",
        "colab": {
          "base_uri": "https://localhost:8080/",
          "height": 153
        }
      },
      "source": [
        "path=\"/content\"\n",
        "aug = naw.WordEmbsAug(model_type='fasttext', tokenizer=tokenizerfr,model_path=os.path.join(path,'wiki.fr.vec'))\n",
        "augmented_text = aug.augment(test)\n",
        "print(\"Original:\")\n",
        "print(test)\n",
        "print(\"Augmented Text:\")\n",
        "for i in range(5):\n",
        "  augmented_text = aug.augment(test)\n",
        "  print(augmented_text)"
      ],
      "execution_count": 0,
      "outputs": [
        {
          "output_type": "stream",
          "text": [
            "Original:\n",
            "Comment modifier les accès de mon badge ?\n",
            "Augmented Text:\n",
            "Comment modification les accès de voulais badge ?\n",
            "Comment modifier ##les accès et mon badge ?\n",
            "Comment modifier les accès pž mon crewmen ?\n",
            "Comment modifier les accès trouvant mon wadge ?\n",
            "Comment modifier les accès » ' mon badge ?\n"
          ],
          "name": "stdout"
        }
      ]
    }
  ]
}